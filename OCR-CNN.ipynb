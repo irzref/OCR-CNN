{
 "cells": [
  {
   "cell_type": "markdown",
   "metadata": {},
   "source": [
    "# Preprocessing convert dataset from byte to csv\n",
    "\n",
    "Error :\n",
    "\n",
    "- the train and test data are not spitted in proper manner (linear, stratified)"
   ]
  },
  {
   "cell_type": "code",
   "execution_count": null,
   "metadata": {},
   "outputs": [],
   "source": [
    "#path to folder with data\n",
    "path = '/home/irza/Projects/gzip/'"
   ]
  },
  {
   "cell_type": "code",
   "execution_count": null,
   "metadata": {},
   "outputs": [],
   "source": [
    "#convert method\n",
    "def convert(imgf, labelf, outf, n):\n",
    "    f = open(imgf, \"rb\")\n",
    "    o = open(outf, \"w\")\n",
    "    l = open(labelf, \"rb\")\n",
    "\n",
    "    f.read(16)\n",
    "    l.read(8)\n",
    "    images = []\n",
    "\n",
    "    for i in range(n):\n",
    "        image = [ord(l.read(1))]\n",
    "        for j in range(28*28):\n",
    "            image.append(ord(f.read(1)))\n",
    "        images.append(image)\n",
    "\n",
    "    for image in images:\n",
    "        o.write(\",\".join(str(pix) for pix in image)+\"\\n\")\n",
    "    f.close()\n",
    "    o.close()\n",
    "    l.close()\n"
   ]
  },
  {
   "cell_type": "code",
   "execution_count": null,
   "metadata": {},
   "outputs": [],
   "source": [
    "#converting dataset for letters\n",
    "#training data\n",
    "convert(path+\"emnist-letters-train-images-idx3-ubyte\", path+\"emnist-letters-train-labels-idx1-ubyte\",\n",
    "        path+\"letter_mnist_train.csv\", 60000)\n",
    "\n",
    "#test data\n",
    "convert(path+\"emnist-letters-test-images-idx3-ubyte\", path+\"emnist-letters-test-labels-idx1-ubyte\",\n",
    "        path+\"letter_mnist_test.csv\", 10000)"
   ]
  },
  {
   "cell_type": "markdown",
   "metadata": {},
   "source": [
    "# Loading the prepared dataset"
   ]
  },
  {
   "cell_type": "code",
   "execution_count": null,
   "metadata": {},
   "outputs": [],
   "source": [
    "import numpy as np \n",
    "import pandas as pd \n",
    "\n",
    "df_train = pd.read_csv('/home/irza/Projects/gzip/letter_mnist_train.csv')\n",
    "df_test = pd.read_csv('/home/irza/Projects/gzip/letter_mnist_test.csv')\n"
   ]
  },
  {
   "cell_type": "markdown",
   "metadata": {},
   "source": [
    "# Overview of the data"
   ]
  },
  {
   "cell_type": "code",
   "execution_count": null,
   "metadata": {},
   "outputs": [],
   "source": [
    "df_train.head()"
   ]
  },
  {
   "cell_type": "code",
   "execution_count": null,
   "metadata": {},
   "outputs": [],
   "source": [
    "#every columns but the first\n",
    "df_train_x = df_train.iloc[:,1:] \n",
    "#only the first column\n",
    "df_train_y = df_train.iloc[:,:1] \n",
    "\n",
    "df_test_x = df_test.iloc[:,1:] \n",
    "df_test_y = df_test.iloc[:,:1] \n",
    "\n",
    "\n",
    "ax = plt.subplots(1,8)\n",
    "for i in range(0,8):   #validate the first 5 records\n",
    "    j = i+50\n",
    "    ax[1][i].imshow(df_train_x.values[j].reshape(28,28), cmap='gray')\n",
    "    ax[1][i].set_title(df_train_y.values[j])\n"
   ]
  },
  {
   "cell_type": "markdown",
   "metadata": {},
   "source": [
    "# Loading the packages"
   ]
  },
  {
   "cell_type": "code",
   "execution_count": null,
   "metadata": {},
   "outputs": [],
   "source": [
    "from keras.models import Sequential\n",
    "from keras.layers import Dense, Dropout, Flatten\n",
    "from keras.layers.convolutional import Conv2D, MaxPooling2D\n",
    "from keras.utils import np_utils\n",
    "from keras.optimizers import RMSprop\n",
    "from keras.callbacks import ReduceLROnPlateau\n",
    "from keras.preprocessing.image import ImageDataGenerator\n",
    "import matplotlib.pyplot as plt\n",
    "from sklearn.model_selection import train_test_split"
   ]
  },
  {
   "cell_type": "markdown",
   "metadata": {},
   "source": [
    "# Building model"
   ]
  },
  {
   "cell_type": "code",
   "execution_count": null,
   "metadata": {},
   "outputs": [],
   "source": [
    "def cnn_model(result_class_size):\n",
    "    \n",
    "    model = Sequential()\n",
    "    \n",
    "    #use Conv2D to create our first convolutional layer, with 32 filters, 5x5 filter size, \n",
    "    #input_shape = input image with (height, width, channels), activate ReLU to turn negative to zero\n",
    "    model.add(Conv2D(32, (5, 5), input_shape=(28,28,1), activation='relu'))\n",
    "    \n",
    "    #add a pooling layer for down sampling\n",
    "    model.add(MaxPooling2D(pool_size=(2, 2)))\n",
    "    \n",
    "    # add another conv layer with 16 filters, 3x3 filter size, \n",
    "    model.add(Conv2D(16, (3, 3), activation='relu'))\n",
    "    \n",
    "    #set 20% of the layer's activation to zero, to void overfit\n",
    "    model.add(Dropout(0.2))\n",
    "    \n",
    "    #convert a 2D matrix in a vector\n",
    "    model.add(Flatten())\n",
    "    \n",
    "    #add fully-connected layers, and ReLU activation\n",
    "    model.add(Dense(130, activation='relu'))\n",
    "    model.add(Dense(50, activation='relu'))\n",
    "    \n",
    "    #add a fully-connected layer with softmax function to squash values to 0...1 \n",
    "    model.add(Dense(result_class_size, activation='softmax'))   \n",
    "    model.compile(loss='categorical_crossentropy', optimizer=RMSprop(), metrics=['accuracy'])\n",
    "    \n",
    "    return model"
   ]
  },
  {
   "cell_type": "code",
   "execution_count": null,
   "metadata": {},
   "outputs": [],
   "source": [
    "#turn the label to 42000 binary class matrix \n",
    "arr_train_y = np_utils.to_categorical(df_train_y.iloc[:,0].values)\n",
    "model = cnn_model(arr_train_y.shape[1])\n",
    "model.summary()"
   ]
  },
  {
   "cell_type": "code",
   "execution_count": null,
   "metadata": {},
   "outputs": [],
   "source": [
    "#normalize 255 grey scale to values between 0 and 1 \n",
    "df_test_x = df_test_x / 255\n",
    "df_train_x = df_train_x / 255"
   ]
  },
  {
   "cell_type": "code",
   "execution_count": null,
   "metadata": {},
   "outputs": [],
   "source": [
    "#reshape training X and text x to (number, height, width, channels)\n",
    "arr_train_x_28x28 = np.reshape(df_train_x.values, (df_train_x.values.shape[0], 28, 28, 1))\n",
    "arr_test_x_28x28 = np.reshape(df_test_x.values, (df_test_x.values.shape[0], 28, 28, 1))"
   ]
  },
  {
   "cell_type": "code",
   "execution_count": null,
   "metadata": {},
   "outputs": [],
   "source": [
    "#spliting into train and validation \n",
    "#validate size = 8%\n",
    "random_seed = 3\n",
    "split_train_x, split_val_x, split_train_y, split_val_y, = train_test_split(arr_train_x_28x28, arr_train_y, test_size = 0.08, random_state=random_seed)"
   ]
  },
  {
   "cell_type": "markdown",
   "metadata": {},
   "source": [
    "# Unclear step, it supposed to be training part !!!"
   ]
  },
  {
   "cell_type": "code",
   "execution_count": null,
   "metadata": {},
   "outputs": [],
   "source": [
    "reduce_lr = ReduceLROnPlateau(monitor='val_acc',factor=0.5,patience=3,min_lr=0.00001)\n",
    "\n",
    "datagen = ImageDataGenerator(\n",
    "        rotation_range=10,  # randomly rotate images in the range \n",
    "        zoom_range = 0.1, # Randomly zoom image \n",
    "        width_shift_range=0.1,  # randomly shift images horizontally\n",
    "        height_shift_range=0.1  # randomly shift images vertically\n",
    "        )\n",
    "\n",
    "datagen.fit(split_train_x)\n",
    "\n",
    "model.fit_generator(datagen.flow(split_train_x,split_train_y, batch_size=64),\n",
    "                              epochs = 10, validation_data = (split_val_x,split_val_y),\n",
    "                              verbose = 2, steps_per_epoch=700 \n",
    "                              , callbacks=[reduce_lr])\n"
   ]
  },
  {
   "cell_type": "markdown",
   "metadata": {},
   "source": [
    "# Predicting test data"
   ]
  },
  {
   "cell_type": "code",
   "execution_count": null,
   "metadata": {},
   "outputs": [],
   "source": [
    "prediction = model.predict_classes(arr_test_x_28x28, verbose=0)\n",
    "data_to_submit = pd.DataFrame({\"ImageId\": list(range(1,len(prediction)+1)), \"Label\": prediction})\n",
    "data_to_submit.to_csv(path + \"result.csv\", header=True, index = False)"
   ]
  },
  {
   "cell_type": "markdown",
   "metadata": {},
   "source": [
    "# Show prediction result"
   ]
  },
  {
   "cell_type": "code",
   "execution_count": null,
   "metadata": {},
   "outputs": [],
   "source": [
    "from random import randrange\n",
    "\n",
    "#pick 10 images from testing data set\n",
    "start_idx = randrange(df_test_x.shape[0]-10) \n",
    "\n",
    "\n",
    "fig, ax = plt.subplots(2,5, figsize=(15,8))\n",
    "for j in range(0,2): \n",
    "  for i in range(0,5):\n",
    "     ax[j][i].imshow(df_test_x.values[start_idx].reshape(28,28), cmap='gray')\n",
    "     ax[j][i].set_title(\"Index:{} \\nPrediction:{}\".format(start_idx, prediction[start_idx]))\n",
    "     start_idx +=1"
   ]
  },
  {
   "cell_type": "markdown",
   "metadata": {},
   "source": [
    "# Evaluation matrix is missing !!!"
   ]
  },
  {
   "cell_type": "code",
   "execution_count": null,
   "metadata": {},
   "outputs": [],
   "source": []
  }
 ],
 "metadata": {
  "kernelspec": {
   "display_name": "Python 3",
   "language": "python",
   "name": "python3"
  },
  "language_info": {
   "codemirror_mode": {
    "name": "ipython",
    "version": 3
   },
   "file_extension": ".py",
   "mimetype": "text/x-python",
   "name": "python",
   "nbconvert_exporter": "python",
   "pygments_lexer": "ipython3",
   "version": "3.6.5"
  }
 },
 "nbformat": 4,
 "nbformat_minor": 2
}
